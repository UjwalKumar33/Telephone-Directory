{
 "cells": [
  {
   "cell_type": "code",
   "execution_count": null,
   "metadata": {},
   "outputs": [],
   "source": [
    "Create a simple user define function which will check for the mobile number for a given name.\n",
    "If the name does not exist, it should ask for the adding, into the database.\n",
    "We should give multiple options like:\n",
    "Display numbers, Add phone number, Search number and Quit\n",
    "If the user select quit then only program should terminate, otherwise the program should run."
   ]
  },
  {
   "cell_type": "code",
   "execution_count": null,
   "metadata": {},
   "outputs": [],
   "source": [
    "Sample output:\n",
    "1. Display Phone Numbers\n",
    "2. Add a Phone Number\n",
    "3. Search contact\n",
    "4. Quit\n",
    "Type in a number (1-4): 1\n",
    "******** Telephone Numbers: **********\n",
    "Type in a number (1-4): 2\n",
    "Add Name and Number\n",
    "Enter Name: ram\n",
    "Enter Phone Number: 7848571200\n",
    "Type in a number (1-4): 1\n",
    "********Telephone Numbers: **********\n",
    "Name: ram Number: 7848571200\n",
    "Type in a number (1-4): 3\n",
    "Enter name you are searching for? ram\n",
    "7848571200\n",
    "Type in a number (1-4): 2542\n",
    "1. Display Phone Numbers\n",
    "2. Add a Phone Number\n",
    "3. Search contact\n",
    "4. Quit"
   ]
  },
  {
   "cell_type": "code",
   "execution_count": 1,
   "metadata": {},
   "outputs": [],
   "source": [
    "dict1={}"
   ]
  },
  {
   "cell_type": "code",
   "execution_count": 2,
   "metadata": {},
   "outputs": [
    {
     "name": "stdout",
     "output_type": "stream",
     "text": [
      "Type a number (1-4):1\n",
      "1. Display Phone Numbers\n",
      "2. Add a Phone Number\n",
      "3. Search contact\n",
      "4. Quit\n",
      "********** Telephone Numbers: **********\n",
      "{}\n",
      "Type a number (1-4):2\n",
      "1. Display Phone Numbers\n",
      "2. Add a Phone Number\n",
      "3. Search contact\n",
      "4. Quit\n",
      "enter name: ujwal\n",
      "enter number: 456123\n",
      "Type a number (1-4):2\n",
      "1. Display Phone Numbers\n",
      "2. Add a Phone Number\n",
      "3. Search contact\n",
      "4. Quit\n",
      "enter name: ram\n",
      "enter number: 456258\n",
      "Type a number (1-4):3\n",
      "1. Display Phone Numbers\n",
      "2. Add a Phone Number\n",
      "3. Search contact\n",
      "4. Quit\n",
      "Enter name you are searching for?\n",
      "ram\n",
      "456258\n",
      "Type a number (1-4):4\n",
      "1. Display Phone Numbers\n",
      "2. Add a Phone Number\n",
      "3. Search contact\n",
      "4. Quit\n"
     ]
    }
   ],
   "source": [
    "def telephone_directory(a):\n",
    "    print('1. Display Phone Numbers\\n''2. Add a Phone Number\\n''3. Search contact\\n''4. Quit')\n",
    "    #a=int(input('Type a number (1-4):'))\n",
    "    if a==1:\n",
    "        print('*'*10,'Telephone Numbers:','*'*10)\n",
    "        print(dict1)\n",
    "        telephone_directory(int(input('Type a number (1-4):')))\n",
    "    elif a==2:\n",
    "        x=input('enter name: ')\n",
    "        y=int(input('enter number: '))\n",
    "        dict1[x]=y\n",
    "        telephone_directory(int(input('Type a number (1-4):')))\n",
    "    elif a==3:\n",
    "        print('Enter name you are searching for?')\n",
    "        hi=input()\n",
    "        for p,q in dict1.items():\n",
    "            if hi==p:\n",
    "                print(q)\n",
    "                telephone_directory(int(input('Type a number (1-4):')))\n",
    "    else:\n",
    "        pass\n",
    "telephone_directory(int(input('Type a number (1-4):')))  "
   ]
  },
  {
   "cell_type": "code",
   "execution_count": null,
   "metadata": {},
   "outputs": [],
   "source": []
  }
 ],
 "metadata": {
  "kernelspec": {
   "display_name": "Python 3 (ipykernel)",
   "language": "python",
   "name": "python3"
  },
  "language_info": {
   "codemirror_mode": {
    "name": "ipython",
    "version": 3
   },
   "file_extension": ".py",
   "mimetype": "text/x-python",
   "name": "python",
   "nbconvert_exporter": "python",
   "pygments_lexer": "ipython3",
   "version": "3.9.7"
  }
 },
 "nbformat": 4,
 "nbformat_minor": 4
}
